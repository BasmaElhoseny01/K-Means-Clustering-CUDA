{
 "cells": [
  {
   "cell_type": "code",
   "execution_count": 6,
   "metadata": {},
   "outputs": [
    {
     "name": "stdout",
     "output_type": "stream",
     "text": [
      "Requirement already satisfied: Pillow in c:\\users\\77\\anaconda3\\lib\\site-packages (9.4.0)\n",
      "Note: you may need to restart the kernel to use updated packages.\n"
     ]
    },
    {
     "name": "stderr",
     "output_type": "stream",
     "text": [
      "WARNING: Ignoring invalid distribution -umpy (c:\\users\\77\\anaconda3\\lib\\site-packages)\n",
      "WARNING: Ignoring invalid distribution -pencv-python-headless (c:\\users\\77\\anaconda3\\lib\\site-packages)\n",
      "WARNING: Ignoring invalid distribution -umpy (c:\\users\\77\\anaconda3\\lib\\site-packages)\n",
      "WARNING: Ignoring invalid distribution -pencv-python-headless (c:\\users\\77\\anaconda3\\lib\\site-packages)\n",
      "WARNING: Ignoring invalid distribution -umpy (c:\\users\\77\\anaconda3\\lib\\site-packages)\n",
      "WARNING: Ignoring invalid distribution -pencv-python-headless (c:\\users\\77\\anaconda3\\lib\\site-packages)\n",
      "WARNING: Ignoring invalid distribution -umpy (c:\\users\\77\\anaconda3\\lib\\site-packages)\n",
      "WARNING: Ignoring invalid distribution -pencv-python-headless (c:\\users\\77\\anaconda3\\lib\\site-packages)\n",
      "WARNING: Ignoring invalid distribution -umpy (c:\\users\\77\\anaconda3\\lib\\site-packages)\n",
      "WARNING: Ignoring invalid distribution -pencv-python-headless (c:\\users\\77\\anaconda3\\lib\\site-packages)\n",
      "WARNING: Ignoring invalid distribution -umpy (c:\\users\\77\\anaconda3\\lib\\site-packages)\n",
      "WARNING: Ignoring invalid distribution -pencv-python-headless (c:\\users\\77\\anaconda3\\lib\\site-packages)\n"
     ]
    }
   ],
   "source": [
    "# %pip install Pillow"
   ]
  },
  {
   "cell_type": "code",
   "execution_count": 24,
   "metadata": {},
   "outputs": [
    {
     "name": "stdout",
     "output_type": "stream",
     "text": [
      "Original shape of image: (3200, 5600, 3)\n",
      "Shape of image_tensor: torch.Size([3, 3200, 5600])\n",
      "Shape of points: torch.Size([1, 17920000, 3])\n",
      "Output shape: torch.Size([1, 5, 3])\n",
      "Execution time: 12.232759237289429 seconds\n"
     ]
    }
   ],
   "source": [
    "# from kmeans_gpu import KMeans\n",
    "# import torch\n",
    "# import matplotlib.pyplot as plt\n",
    "# import numpy as np\n",
    "# import time\n",
    "\n",
    "# # Config\n",
    "# batch_size = 1  # Since we're processing one image at a time\n",
    "# feature_dim = 3  # RGB channels\n",
    "# num_cluster = 5\n",
    "\n",
    "# # Load the image using matplotlib\n",
    "# image_path = '../tests/high_res.jpg'  # Replace with your image path\n",
    "# image = plt.imread(image_path)\n",
    "# print(\"Original shape of image:\", image.shape)  # Should be [height, width, 3]\n",
    "\n",
    "# # Convert the image to a PyTorch tensor\n",
    "# image_tensor = torch.tensor(image, dtype=torch.float32).permute(2, 0, 1) / 255.0\n",
    "# print(\"Shape of image_tensor:\", image_tensor.shape)  # Should be [3, height, width]\n",
    "\n",
    "# # Flatten the image tensor to match the expected input format for KMeans\n",
    "# points = image_tensor.view(1, 3, -1).permute(0, 2, 1)  # Shape: [1, height * width, 3]\n",
    "# print(\"Shape of points:\", points.shape)  # Should be [1, height * width, 3]\n",
    "\n",
    "# # Create KMeans Module\n",
    "# kmeans = KMeans(\n",
    "#     n_clusters=num_cluster,\n",
    "#     max_iter=100,\n",
    "#     tolerance=1e-4,\n",
    "#     distance='euclidean',\n",
    "#     sub_sampling=None,\n",
    "#     max_neighbors=15,\n",
    "# )\n",
    "\n",
    "# # Measure execution time\n",
    "# start_time = time.time()\n",
    "# output = kmeans(points)\n",
    "# end_time = time.time()\n",
    "\n",
    "# # Assuming the output is a single tensor\n",
    "# print(\"Output shape:\", output.shape)\n",
    "# print(\"Execution time:\", end_time - start_time, \"seconds\")"
   ]
  },
  {
   "cell_type": "code",
   "execution_count": 26,
   "metadata": {},
   "outputs": [
    {
     "name": "stdout",
     "output_type": "stream",
     "text": [
      "Output shape: torch.Size([1, 15, 3])\n",
      "Execution time: 34.64947533607483 seconds\n"
     ]
    }
   ],
   "source": [
    "# # repeat for 15 clusters\n",
    "# num_cluster = 15\n",
    "# kmeans = KMeans(\n",
    "#     n_clusters=num_cluster,\n",
    "#     max_iter=100,\n",
    "#     tolerance=1e-4,\n",
    "#     distance='euclidean',\n",
    "#     sub_sampling=None,\n",
    "#     max_neighbors=15,\n",
    "# )\n",
    "\n",
    "# start_time = time.time()\n",
    "# output = kmeans(points)\n",
    "# end_time = time.time()\n",
    "\n",
    "# print(\"Output shape:\", output.shape)\n",
    "# print(\"Execution time:\", end_time - start_time, \"seconds\")"
   ]
  },
  {
   "cell_type": "code",
   "execution_count": 29,
   "metadata": {},
   "outputs": [
    {
     "name": "stdout",
     "output_type": "stream",
     "text": [
      "Output shape: torch.Size([1, 30, 3])\n",
      "Execution time: 139.6084861755371 seconds\n"
     ]
    }
   ],
   "source": [
    "# # repeat for 15 clusters\n",
    "# num_cluster = 30\n",
    "# kmeans = KMeans(\n",
    "#     n_clusters=num_cluster,\n",
    "#     max_iter=100,\n",
    "#     tolerance=1e-4,\n",
    "#     distance='euclidean',\n",
    "#     sub_sampling=None,\n",
    "#     max_neighbors=15,\n",
    "# )\n",
    "\n",
    "# start_time = time.time()\n",
    "# output = kmeans(points)\n",
    "# end_time = time.time()\n",
    "\n",
    "# print(\"Output shape:\", output.shape)\n",
    "# print(\"Execution time:\", end_time - start_time, \"seconds\")"
   ]
  },
  {
   "cell_type": "code",
   "execution_count": 30,
   "metadata": {},
   "outputs": [
    {
     "name": "stdout",
     "output_type": "stream",
     "text": [
      "Using device: cuda\n",
      "Original shape of image: (3200, 5600, 3)\n",
      "Shape of image_tensor: torch.Size([3, 3200, 5600])\n",
      "Shape of points: torch.Size([1, 17920000, 3])\n",
      "Output shape: torch.Size([1, 5, 3])\n",
      "Execution time: 1.8943312168121338 seconds\n"
     ]
    }
   ],
   "source": [
    "from kmeans_gpu import KMeans\n",
    "import torch\n",
    "import matplotlib.pyplot as plt\n",
    "import numpy as np\n",
    "import time\n",
    "\n",
    "# Config\n",
    "batch_size = 1  # Since we're processing one image at a time\n",
    "feature_dim = 3  # RGB channels\n",
    "num_cluster = 5\n",
    "\n",
    "# Check if GPU is available\n",
    "device = torch.device('cuda' if torch.cuda.is_available() else 'cpu')\n",
    "print(\"Using device:\", device)\n",
    "\n",
    "# Load the image using matplotlib\n",
    "image_path = '../tests/high_res.jpg'  # Replace with your image path\n",
    "image = plt.imread(image_path)\n",
    "print(\"Original shape of image:\", image.shape)  # Should be [height, width, 3]\n",
    "\n",
    "# Convert the image to a PyTorch tensor\n",
    "image_tensor = torch.tensor(\n",
    "    image, dtype=torch.float32).permute(2, 0, 1) / 255.0\n",
    "# Should be [3, height, width]\n",
    "print(\"Shape of image_tensor:\", image_tensor.shape)\n",
    "\n",
    "# Flatten the image tensor to match the expected input format for KMeans\n",
    "# Shape: [1, height * width, 3]\n",
    "points = image_tensor.view(1, 3, -1).permute(0, 2, 1).to(device)\n",
    "print(\"Shape of points:\", points.shape)  # Should be [1, height * width, 3]\n",
    "\n",
    "# Create KMeans Module and move it to GPU\n",
    "kmeans = KMeans(\n",
    "    n_clusters=num_cluster,\n",
    "    max_iter=100,\n",
    "    tolerance=1e-4,\n",
    "    distance='euclidean',\n",
    "    sub_sampling=None,\n",
    "    max_neighbors=15,\n",
    ").to(device)\n",
    "\n",
    "# Synchronize before starting the timer to ensure accurate timing\n",
    "torch.cuda.synchronize()\n",
    "\n",
    "# Measure execution time\n",
    "start_time = time.time()\n",
    "output = kmeans(points)\n",
    "torch.cuda.synchronize()  # Wait for the GPU to finish\n",
    "end_time = time.time()\n",
    "\n",
    "# Assuming the output is a single tensor\n",
    "print(\"Output shape:\", output.shape)\n",
    "print(\"HIGH RES Clusters:\", num_cluster)\n",
    "\n",
    "print(\"Execution time:\", end_time - start_time, \"seconds\")"
   ]
  },
  {
   "cell_type": "code",
   "execution_count": 31,
   "metadata": {},
   "outputs": [
    {
     "name": "stdout",
     "output_type": "stream",
     "text": [
      "Output shape: torch.Size([1, 15, 3])\n",
      "Execution time: 3.1288228034973145 seconds\n"
     ]
    }
   ],
   "source": [
    "# repeat for 15 clusters\n",
    "num_cluster = 15\n",
    "kmeans = KMeans(\n",
    "    n_clusters=num_cluster,\n",
    "    max_iter=100,\n",
    "    tolerance=1e-4,\n",
    "    distance='euclidean',\n",
    "    sub_sampling=None,\n",
    "    max_neighbors=15,\n",
    ")\n",
    "\n",
    "start_time = time.time()\n",
    "output = kmeans(points)\n",
    "end_time = time.time()\n",
    "\n",
    "print(\"Output shape:\", output.shape)\n",
    "print(\"HIGH RES Clusters:\", num_cluster)\n",
    "print(\"Execution time:\", end_time - start_time, \"seconds\")"
   ]
  },
  {
   "cell_type": "code",
   "execution_count": 32,
   "metadata": {},
   "outputs": [
    {
     "name": "stdout",
     "output_type": "stream",
     "text": [
      "Output shape: torch.Size([1, 30, 3])\n",
      "Execution time: 92.12330961227417 seconds\n"
     ]
    }
   ],
   "source": [
    "# # repeat for 15 clusters\n",
    "# num_cluster = 30\n",
    "# kmeans = KMeans(\n",
    "#     n_clusters=num_cluster,\n",
    "#     max_iter=100,\n",
    "#     tolerance=1e-4,\n",
    "#     distance='euclidean',\n",
    "#     sub_sampling=None,\n",
    "#     max_neighbors=15,\n",
    "# )\n",
    "\n",
    "# start_time = time.time()\n",
    "# output = kmeans(points)\n",
    "# end_time = time.time()\n",
    "\n",
    "# print(\"Output shape:\", output.shape)\n",
    "# print(\"Execution time:\", end_time - start_time, \"seconds\")"
   ]
  },
  {
   "cell_type": "code",
   "execution_count": 16,
   "metadata": {},
   "outputs": [
    {
     "name": "stdout",
     "output_type": "stream",
     "text": [
      "tensor([[[0.5650, 0.6508, 0.6065],\n",
      "         [0.2970, 0.4415, 0.4379],\n",
      "         [0.0293, 0.0866, 0.1185],\n",
      "         [0.9065, 0.8794, 0.8059],\n",
      "         [0.1305, 0.2532, 0.2687]]], device='cuda:0')\n"
     ]
    }
   ],
   "source": [
    "num_cluster = 5\n",
    "\n",
    "\n",
    "# Load the image using matplotlib\n",
    "image_path = '../tests/image_1.png'  # Replace with your image path\n",
    "image = plt.imread(image_path)\n",
    "print(\"Original shape of image:\", image.shape)  # Should be [height, width, 3]\n",
    "\n",
    "# Convert the image to a PyTorch tensor\n",
    "image_tensor = torch.tensor(\n",
    "    image, dtype=torch.float32).permute(2, 0, 1) / 255.0\n",
    "# Should be [3, height, width]\n",
    "print(\"Shape of image_tensor:\", image_tensor.shape)\n",
    "\n",
    "# Flatten the image tensor to match the expected input format for KMeans\n",
    "# Shape: [1, height * width, 3]\n",
    "points = image_tensor.view(1, 3, -1).permute(0, 2, 1).to(device)\n",
    "print(\"Shape of points:\", points.shape)  # Should be [1, height * width, 3]\n",
    "\n",
    "# Create KMeans Module and move it to GPU\n",
    "kmeans = KMeans(\n",
    "    n_clusters=num_cluster,\n",
    "    max_iter=100,\n",
    "    tolerance=1e-4,\n",
    "    distance='euclidean',\n",
    "    sub_sampling=None,\n",
    "    max_neighbors=15,\n",
    ").to(device)\n",
    "\n",
    "# Synchronize before starting the timer to ensure accurate timing\n",
    "torch.cuda.synchronize()\n",
    "\n",
    "# Measure execution time\n",
    "start_time = time.time()\n",
    "output = kmeans(points)\n",
    "torch.cuda.synchronize()  # Wait for the GPU to finish\n",
    "end_time = time.time()\n",
    "\n",
    "# Assuming the output is a single tensor\n",
    "print(\"Output shape:\", output.shape)\n",
    "print(\"HIGH RES Clusters:\", num_cluster)\n",
    "\n",
    "print(\"Execution time:\", end_time - start_time, \"seconds\")"
   ]
  },
  {
   "cell_type": "code",
   "execution_count": null,
   "metadata": {},
   "outputs": [],
   "source": [
    "num_cluster = 15\n",
    "\n",
    "\n",
    "# Load the image using matplotlib\n",
    "image_path = '../tests/image_1.png'  # Replace with your image path\n",
    "image = plt.imread(image_path)\n",
    "print(\"Original shape of image:\", image.shape)  # Should be [height, width, 3]\n",
    "\n",
    "# Convert the image to a PyTorch tensor\n",
    "image_tensor = torch.tensor(\n",
    "    image, dtype=torch.float32).permute(2, 0, 1) / 255.0\n",
    "# Should be [3, height, width]\n",
    "print(\"Shape of image_tensor:\", image_tensor.shape)\n",
    "\n",
    "# Flatten the image tensor to match the expected input format for KMeans\n",
    "# Shape: [1, height * width, 3]\n",
    "points = image_tensor.view(1, 3, -1).permute(0, 2, 1).to(device)\n",
    "print(\"Shape of points:\", points.shape)  # Should be [1, height * width, 3]\n",
    "\n",
    "# Create KMeans Module and move it to GPU\n",
    "kmeans = KMeans(\n",
    "    n_clusters=num_cluster,\n",
    "    max_iter=100,\n",
    "    tolerance=1e-4,\n",
    "    distance='euclidean',\n",
    "    sub_sampling=None,\n",
    "    max_neighbors=15,\n",
    ").to(device)\n",
    "\n",
    "# Synchronize before starting the timer to ensure accurate timing\n",
    "torch.cuda.synchronize()\n",
    "\n",
    "# Measure execution time\n",
    "start_time = time.time()\n",
    "output = kmeans(points)\n",
    "torch.cuda.synchronize()  # Wait for the GPU to finish\n",
    "end_time = time.time()\n",
    "\n",
    "# Assuming the output is a single tensor\n",
    "print(\"Output shape:\", output.shape)\n",
    "print(\"HIGH RES Clusters:\", num_cluster)\n",
    "\n",
    "print(\"Execution time:\", end_time - start_time, \"seconds\")"
   ]
  }
 ],
 "metadata": {
  "kernelspec": {
   "display_name": "base",
   "language": "python",
   "name": "python3"
  },
  "language_info": {
   "codemirror_mode": {
    "name": "ipython",
    "version": 3
   },
   "file_extension": ".py",
   "mimetype": "text/x-python",
   "name": "python",
   "nbconvert_exporter": "python",
   "pygments_lexer": "ipython3",
   "version": "3.9.18"
  }
 },
 "nbformat": 4,
 "nbformat_minor": 2
}
